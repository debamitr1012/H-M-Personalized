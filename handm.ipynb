{
 "cells": [
  {
   "cell_type": "markdown",
   "metadata": {},
   "source": [
    "H&M Personalized Fashion Recommendations"
   ]
  },
  {
   "cell_type": "markdown",
   "metadata": {},
   "source": [
    "Provide product recommendations based on previous purchases"
   ]
  },
  {
   "cell_type": "markdown",
   "metadata": {},
   "source": [
    "Dataset Link: https://www.kaggle.com/c/h-and-m-personalized-fashion-recommendations/data"
   ]
  },
  {
   "cell_type": "code",
   "execution_count": 2,
   "metadata": {},
   "outputs": [],
   "source": [
    "import numpy as np\n",
    "import pandas as pd\n",
    "import matplotlib.pyplot as plt\n",
    "from collections import Counter\n",
    "from PIL import Image\n",
    "from pathlib import Path\n",
    "import plotly.express as px\n",
    "path = Path(\"C:/Users/91983/Desktop/H&M/\")\n",
    "def show_images(article_ids, cols=1, rows=-1):\n",
    "    if isinstance(article_ids, int) or isinstance(article_ids, str):\n",
    "        article_ids = [article_ids]\n",
    "    article_count = len(article_ids)\n",
    "    if rows < 0: rows = (article_count // cols) + 1\n",
    "    plt.figure(figsize=(3 + 3.5 * cols, 3 + 5 * rows))\n",
    "    for i in range(article_count):\n",
    "        article_id = (\"0\" + str(article_ids[i]))[-10:]\n",
    "        plt.subplot(rows, cols, i + 1)\n",
    "        plt.axis('off')\n",
    "        plt.title(article_id)\n",
    "        try:\n",
    "            image = Image.open(f\"C:/Users/91983/Desktop/H&M/images/{article_id[:3]}/{article_id}.jpg\")\n",
    "            plt.imshow(image)\n",
    "        except:\n",
    "            pass\n",
    "articles_df = pd.read_csv(path / \"C:/Users/91983/Desktop/H&M/articles.csv\", dtype = {'article_id': str})\n",
    "train_df = pd.read_csv(path / \"C:/Users/91983/Desktop/H&M/transactions_train.csv\", dtype = {'article_id': str})\n",
    "customer  = pd.read_csv(path / \"C:/Users/91983/Desktop/H&M/customers.csv\")\n",
    "train_df[\"t_dat\"] = pd.to_datetime(train_df[\"t_dat\"])\n",
    "monthly_df = train_df.query(\"'2020-9-1' <= t_dat\")\n",
    "weekly_df = train_df.query(\"'2020-9-16' <= t_dat\")\n",
    "sales_counts = Counter(train_df.article_id)\n",
    "for i in range(len(articles_df)):\n",
    "    articles_df.at[i, \"sales_count\"] = sales_counts[articles_df.at[i, \"article_id\"]]\n",
    "monthly_sales_counts = Counter(monthly_df.article_id)\n",
    "for i in range(len(articles_df)):\n",
    "    articles_df.at[i, \"monthly_sales_count\"] = monthly_sales_counts[articles_df.at[i, \"article_id\"]]\n",
    "weekly_sales_counts = Counter(weekly_df.article_id)\n",
    "for i in range(len(articles_df)):\n",
    "    articles_df.at[i, \"weekly_sales_count\"] = weekly_sales_counts[articles_df.at[i, \"article_id\"]]"
   ]
  },
  {
   "cell_type": "markdown",
   "metadata": {},
   "source": [
    "Getting an overview of the datasets"
   ]
  },
  {
   "cell_type": "code",
   "execution_count": 3,
   "metadata": {},
   "outputs": [
    {
     "name": "stdout",
     "output_type": "stream",
     "text": [
      "(105542, 28)\n",
      "(31788324, 5)\n",
      "(1371980, 7)\n"
     ]
    }
   ],
   "source": [
    "print(articles_df.shape)\n",
    "print(train_df.shape)\n",
    "print(customer.shape)"
   ]
  },
  {
   "cell_type": "code",
   "execution_count": 4,
   "metadata": {},
   "outputs": [
    {
     "data": {
      "text/html": [
       "<div>\n",
       "<style scoped>\n",
       "    .dataframe tbody tr th:only-of-type {\n",
       "        vertical-align: middle;\n",
       "    }\n",
       "\n",
       "    .dataframe tbody tr th {\n",
       "        vertical-align: top;\n",
       "    }\n",
       "\n",
       "    .dataframe thead th {\n",
       "        text-align: right;\n",
       "    }\n",
       "</style>\n",
       "<table border=\"1\" class=\"dataframe\">\n",
       "  <thead>\n",
       "    <tr style=\"text-align: right;\">\n",
       "      <th></th>\n",
       "      <th>0</th>\n",
       "      <th>1</th>\n",
       "      <th>2</th>\n",
       "      <th>3</th>\n",
       "      <th>4</th>\n",
       "    </tr>\n",
       "  </thead>\n",
       "  <tbody>\n",
       "    <tr>\n",
       "      <th>article_id</th>\n",
       "      <td>0108775015</td>\n",
       "      <td>0108775044</td>\n",
       "      <td>0108775051</td>\n",
       "      <td>0110065001</td>\n",
       "      <td>0110065002</td>\n",
       "    </tr>\n",
       "    <tr>\n",
       "      <th>product_code</th>\n",
       "      <td>108775</td>\n",
       "      <td>108775</td>\n",
       "      <td>108775</td>\n",
       "      <td>110065</td>\n",
       "      <td>110065</td>\n",
       "    </tr>\n",
       "    <tr>\n",
       "      <th>prod_name</th>\n",
       "      <td>Strap top</td>\n",
       "      <td>Strap top</td>\n",
       "      <td>Strap top (1)</td>\n",
       "      <td>OP T-shirt (Idro)</td>\n",
       "      <td>OP T-shirt (Idro)</td>\n",
       "    </tr>\n",
       "    <tr>\n",
       "      <th>product_type_no</th>\n",
       "      <td>253</td>\n",
       "      <td>253</td>\n",
       "      <td>253</td>\n",
       "      <td>306</td>\n",
       "      <td>306</td>\n",
       "    </tr>\n",
       "    <tr>\n",
       "      <th>product_type_name</th>\n",
       "      <td>Vest top</td>\n",
       "      <td>Vest top</td>\n",
       "      <td>Vest top</td>\n",
       "      <td>Bra</td>\n",
       "      <td>Bra</td>\n",
       "    </tr>\n",
       "    <tr>\n",
       "      <th>product_group_name</th>\n",
       "      <td>Garment Upper body</td>\n",
       "      <td>Garment Upper body</td>\n",
       "      <td>Garment Upper body</td>\n",
       "      <td>Underwear</td>\n",
       "      <td>Underwear</td>\n",
       "    </tr>\n",
       "    <tr>\n",
       "      <th>graphical_appearance_no</th>\n",
       "      <td>1010016</td>\n",
       "      <td>1010016</td>\n",
       "      <td>1010017</td>\n",
       "      <td>1010016</td>\n",
       "      <td>1010016</td>\n",
       "    </tr>\n",
       "    <tr>\n",
       "      <th>graphical_appearance_name</th>\n",
       "      <td>Solid</td>\n",
       "      <td>Solid</td>\n",
       "      <td>Stripe</td>\n",
       "      <td>Solid</td>\n",
       "      <td>Solid</td>\n",
       "    </tr>\n",
       "    <tr>\n",
       "      <th>colour_group_code</th>\n",
       "      <td>9</td>\n",
       "      <td>10</td>\n",
       "      <td>11</td>\n",
       "      <td>9</td>\n",
       "      <td>10</td>\n",
       "    </tr>\n",
       "    <tr>\n",
       "      <th>colour_group_name</th>\n",
       "      <td>Black</td>\n",
       "      <td>White</td>\n",
       "      <td>Off White</td>\n",
       "      <td>Black</td>\n",
       "      <td>White</td>\n",
       "    </tr>\n",
       "    <tr>\n",
       "      <th>perceived_colour_value_id</th>\n",
       "      <td>4</td>\n",
       "      <td>3</td>\n",
       "      <td>1</td>\n",
       "      <td>4</td>\n",
       "      <td>3</td>\n",
       "    </tr>\n",
       "    <tr>\n",
       "      <th>perceived_colour_value_name</th>\n",
       "      <td>Dark</td>\n",
       "      <td>Light</td>\n",
       "      <td>Dusty Light</td>\n",
       "      <td>Dark</td>\n",
       "      <td>Light</td>\n",
       "    </tr>\n",
       "    <tr>\n",
       "      <th>perceived_colour_master_id</th>\n",
       "      <td>5</td>\n",
       "      <td>9</td>\n",
       "      <td>9</td>\n",
       "      <td>5</td>\n",
       "      <td>9</td>\n",
       "    </tr>\n",
       "    <tr>\n",
       "      <th>perceived_colour_master_name</th>\n",
       "      <td>Black</td>\n",
       "      <td>White</td>\n",
       "      <td>White</td>\n",
       "      <td>Black</td>\n",
       "      <td>White</td>\n",
       "    </tr>\n",
       "    <tr>\n",
       "      <th>department_no</th>\n",
       "      <td>1676</td>\n",
       "      <td>1676</td>\n",
       "      <td>1676</td>\n",
       "      <td>1339</td>\n",
       "      <td>1339</td>\n",
       "    </tr>\n",
       "    <tr>\n",
       "      <th>department_name</th>\n",
       "      <td>Jersey Basic</td>\n",
       "      <td>Jersey Basic</td>\n",
       "      <td>Jersey Basic</td>\n",
       "      <td>Clean Lingerie</td>\n",
       "      <td>Clean Lingerie</td>\n",
       "    </tr>\n",
       "    <tr>\n",
       "      <th>index_code</th>\n",
       "      <td>A</td>\n",
       "      <td>A</td>\n",
       "      <td>A</td>\n",
       "      <td>B</td>\n",
       "      <td>B</td>\n",
       "    </tr>\n",
       "    <tr>\n",
       "      <th>index_name</th>\n",
       "      <td>Ladieswear</td>\n",
       "      <td>Ladieswear</td>\n",
       "      <td>Ladieswear</td>\n",
       "      <td>Lingeries/Tights</td>\n",
       "      <td>Lingeries/Tights</td>\n",
       "    </tr>\n",
       "    <tr>\n",
       "      <th>index_group_no</th>\n",
       "      <td>1</td>\n",
       "      <td>1</td>\n",
       "      <td>1</td>\n",
       "      <td>1</td>\n",
       "      <td>1</td>\n",
       "    </tr>\n",
       "    <tr>\n",
       "      <th>index_group_name</th>\n",
       "      <td>Ladieswear</td>\n",
       "      <td>Ladieswear</td>\n",
       "      <td>Ladieswear</td>\n",
       "      <td>Ladieswear</td>\n",
       "      <td>Ladieswear</td>\n",
       "    </tr>\n",
       "    <tr>\n",
       "      <th>section_no</th>\n",
       "      <td>16</td>\n",
       "      <td>16</td>\n",
       "      <td>16</td>\n",
       "      <td>61</td>\n",
       "      <td>61</td>\n",
       "    </tr>\n",
       "    <tr>\n",
       "      <th>section_name</th>\n",
       "      <td>Womens Everyday Basics</td>\n",
       "      <td>Womens Everyday Basics</td>\n",
       "      <td>Womens Everyday Basics</td>\n",
       "      <td>Womens Lingerie</td>\n",
       "      <td>Womens Lingerie</td>\n",
       "    </tr>\n",
       "    <tr>\n",
       "      <th>garment_group_no</th>\n",
       "      <td>1002</td>\n",
       "      <td>1002</td>\n",
       "      <td>1002</td>\n",
       "      <td>1017</td>\n",
       "      <td>1017</td>\n",
       "    </tr>\n",
       "    <tr>\n",
       "      <th>garment_group_name</th>\n",
       "      <td>Jersey Basic</td>\n",
       "      <td>Jersey Basic</td>\n",
       "      <td>Jersey Basic</td>\n",
       "      <td>Under-, Nightwear</td>\n",
       "      <td>Under-, Nightwear</td>\n",
       "    </tr>\n",
       "    <tr>\n",
       "      <th>detail_desc</th>\n",
       "      <td>Jersey top with narrow shoulder straps.</td>\n",
       "      <td>Jersey top with narrow shoulder straps.</td>\n",
       "      <td>Jersey top with narrow shoulder straps.</td>\n",
       "      <td>Microfibre T-shirt bra with underwired, moulde...</td>\n",
       "      <td>Microfibre T-shirt bra with underwired, moulde...</td>\n",
       "    </tr>\n",
       "    <tr>\n",
       "      <th>sales_count</th>\n",
       "      <td>10841.0</td>\n",
       "      <td>7250.0</td>\n",
       "      <td>215.0</td>\n",
       "      <td>1044.0</td>\n",
       "      <td>539.0</td>\n",
       "    </tr>\n",
       "    <tr>\n",
       "      <th>monthly_sales_count</th>\n",
       "      <td>0.0</td>\n",
       "      <td>10.0</td>\n",
       "      <td>0.0</td>\n",
       "      <td>0.0</td>\n",
       "      <td>0.0</td>\n",
       "    </tr>\n",
       "    <tr>\n",
       "      <th>weekly_sales_count</th>\n",
       "      <td>0.0</td>\n",
       "      <td>3.0</td>\n",
       "      <td>0.0</td>\n",
       "      <td>0.0</td>\n",
       "      <td>0.0</td>\n",
       "    </tr>\n",
       "  </tbody>\n",
       "</table>\n",
       "</div>"
      ],
      "text/plain": [
       "                                                                    0  \\\n",
       "article_id                                                 0108775015   \n",
       "product_code                                                   108775   \n",
       "prod_name                                                   Strap top   \n",
       "product_type_no                                                   253   \n",
       "product_type_name                                            Vest top   \n",
       "product_group_name                                 Garment Upper body   \n",
       "graphical_appearance_no                                       1010016   \n",
       "graphical_appearance_name                                       Solid   \n",
       "colour_group_code                                                   9   \n",
       "colour_group_name                                               Black   \n",
       "perceived_colour_value_id                                           4   \n",
       "perceived_colour_value_name                                      Dark   \n",
       "perceived_colour_master_id                                          5   \n",
       "perceived_colour_master_name                                    Black   \n",
       "department_no                                                    1676   \n",
       "department_name                                          Jersey Basic   \n",
       "index_code                                                          A   \n",
       "index_name                                                 Ladieswear   \n",
       "index_group_no                                                      1   \n",
       "index_group_name                                           Ladieswear   \n",
       "section_no                                                         16   \n",
       "section_name                                   Womens Everyday Basics   \n",
       "garment_group_no                                                 1002   \n",
       "garment_group_name                                       Jersey Basic   \n",
       "detail_desc                   Jersey top with narrow shoulder straps.   \n",
       "sales_count                                                   10841.0   \n",
       "monthly_sales_count                                               0.0   \n",
       "weekly_sales_count                                                0.0   \n",
       "\n",
       "                                                                    1  \\\n",
       "article_id                                                 0108775044   \n",
       "product_code                                                   108775   \n",
       "prod_name                                                   Strap top   \n",
       "product_type_no                                                   253   \n",
       "product_type_name                                            Vest top   \n",
       "product_group_name                                 Garment Upper body   \n",
       "graphical_appearance_no                                       1010016   \n",
       "graphical_appearance_name                                       Solid   \n",
       "colour_group_code                                                  10   \n",
       "colour_group_name                                               White   \n",
       "perceived_colour_value_id                                           3   \n",
       "perceived_colour_value_name                                     Light   \n",
       "perceived_colour_master_id                                          9   \n",
       "perceived_colour_master_name                                    White   \n",
       "department_no                                                    1676   \n",
       "department_name                                          Jersey Basic   \n",
       "index_code                                                          A   \n",
       "index_name                                                 Ladieswear   \n",
       "index_group_no                                                      1   \n",
       "index_group_name                                           Ladieswear   \n",
       "section_no                                                         16   \n",
       "section_name                                   Womens Everyday Basics   \n",
       "garment_group_no                                                 1002   \n",
       "garment_group_name                                       Jersey Basic   \n",
       "detail_desc                   Jersey top with narrow shoulder straps.   \n",
       "sales_count                                                    7250.0   \n",
       "monthly_sales_count                                              10.0   \n",
       "weekly_sales_count                                                3.0   \n",
       "\n",
       "                                                                    2  \\\n",
       "article_id                                                 0108775051   \n",
       "product_code                                                   108775   \n",
       "prod_name                                               Strap top (1)   \n",
       "product_type_no                                                   253   \n",
       "product_type_name                                            Vest top   \n",
       "product_group_name                                 Garment Upper body   \n",
       "graphical_appearance_no                                       1010017   \n",
       "graphical_appearance_name                                      Stripe   \n",
       "colour_group_code                                                  11   \n",
       "colour_group_name                                           Off White   \n",
       "perceived_colour_value_id                                           1   \n",
       "perceived_colour_value_name                               Dusty Light   \n",
       "perceived_colour_master_id                                          9   \n",
       "perceived_colour_master_name                                    White   \n",
       "department_no                                                    1676   \n",
       "department_name                                          Jersey Basic   \n",
       "index_code                                                          A   \n",
       "index_name                                                 Ladieswear   \n",
       "index_group_no                                                      1   \n",
       "index_group_name                                           Ladieswear   \n",
       "section_no                                                         16   \n",
       "section_name                                   Womens Everyday Basics   \n",
       "garment_group_no                                                 1002   \n",
       "garment_group_name                                       Jersey Basic   \n",
       "detail_desc                   Jersey top with narrow shoulder straps.   \n",
       "sales_count                                                     215.0   \n",
       "monthly_sales_count                                               0.0   \n",
       "weekly_sales_count                                                0.0   \n",
       "\n",
       "                                                                              3  \\\n",
       "article_id                                                           0110065001   \n",
       "product_code                                                             110065   \n",
       "prod_name                                                     OP T-shirt (Idro)   \n",
       "product_type_no                                                             306   \n",
       "product_type_name                                                           Bra   \n",
       "product_group_name                                                    Underwear   \n",
       "graphical_appearance_no                                                 1010016   \n",
       "graphical_appearance_name                                                 Solid   \n",
       "colour_group_code                                                             9   \n",
       "colour_group_name                                                         Black   \n",
       "perceived_colour_value_id                                                     4   \n",
       "perceived_colour_value_name                                                Dark   \n",
       "perceived_colour_master_id                                                    5   \n",
       "perceived_colour_master_name                                              Black   \n",
       "department_no                                                              1339   \n",
       "department_name                                                  Clean Lingerie   \n",
       "index_code                                                                    B   \n",
       "index_name                                                     Lingeries/Tights   \n",
       "index_group_no                                                                1   \n",
       "index_group_name                                                     Ladieswear   \n",
       "section_no                                                                   61   \n",
       "section_name                                                    Womens Lingerie   \n",
       "garment_group_no                                                           1017   \n",
       "garment_group_name                                            Under-, Nightwear   \n",
       "detail_desc                   Microfibre T-shirt bra with underwired, moulde...   \n",
       "sales_count                                                              1044.0   \n",
       "monthly_sales_count                                                         0.0   \n",
       "weekly_sales_count                                                          0.0   \n",
       "\n",
       "                                                                              4  \n",
       "article_id                                                           0110065002  \n",
       "product_code                                                             110065  \n",
       "prod_name                                                     OP T-shirt (Idro)  \n",
       "product_type_no                                                             306  \n",
       "product_type_name                                                           Bra  \n",
       "product_group_name                                                    Underwear  \n",
       "graphical_appearance_no                                                 1010016  \n",
       "graphical_appearance_name                                                 Solid  \n",
       "colour_group_code                                                            10  \n",
       "colour_group_name                                                         White  \n",
       "perceived_colour_value_id                                                     3  \n",
       "perceived_colour_value_name                                               Light  \n",
       "perceived_colour_master_id                                                    9  \n",
       "perceived_colour_master_name                                              White  \n",
       "department_no                                                              1339  \n",
       "department_name                                                  Clean Lingerie  \n",
       "index_code                                                                    B  \n",
       "index_name                                                     Lingeries/Tights  \n",
       "index_group_no                                                                1  \n",
       "index_group_name                                                     Ladieswear  \n",
       "section_no                                                                   61  \n",
       "section_name                                                    Womens Lingerie  \n",
       "garment_group_no                                                           1017  \n",
       "garment_group_name                                            Under-, Nightwear  \n",
       "detail_desc                   Microfibre T-shirt bra with underwired, moulde...  \n",
       "sales_count                                                               539.0  \n",
       "monthly_sales_count                                                         0.0  \n",
       "weekly_sales_count                                                          0.0  "
      ]
     },
     "execution_count": 4,
     "metadata": {},
     "output_type": "execute_result"
    }
   ],
   "source": [
    "articles_df.head().T"
   ]
  },
  {
   "cell_type": "code",
   "execution_count": 5,
   "metadata": {},
   "outputs": [
    {
     "data": {
      "text/html": [
       "<div>\n",
       "<style scoped>\n",
       "    .dataframe tbody tr th:only-of-type {\n",
       "        vertical-align: middle;\n",
       "    }\n",
       "\n",
       "    .dataframe tbody tr th {\n",
       "        vertical-align: top;\n",
       "    }\n",
       "\n",
       "    .dataframe thead th {\n",
       "        text-align: right;\n",
       "    }\n",
       "</style>\n",
       "<table border=\"1\" class=\"dataframe\">\n",
       "  <thead>\n",
       "    <tr style=\"text-align: right;\">\n",
       "      <th></th>\n",
       "      <th>0</th>\n",
       "      <th>1</th>\n",
       "      <th>2</th>\n",
       "      <th>3</th>\n",
       "      <th>4</th>\n",
       "    </tr>\n",
       "  </thead>\n",
       "  <tbody>\n",
       "    <tr>\n",
       "      <th>t_dat</th>\n",
       "      <td>2018-09-20 00:00:00</td>\n",
       "      <td>2018-09-20 00:00:00</td>\n",
       "      <td>2018-09-20 00:00:00</td>\n",
       "      <td>2018-09-20 00:00:00</td>\n",
       "      <td>2018-09-20 00:00:00</td>\n",
       "    </tr>\n",
       "    <tr>\n",
       "      <th>customer_id</th>\n",
       "      <td>000058a12d5b43e67d225668fa1f8d618c13dc232df0ca...</td>\n",
       "      <td>000058a12d5b43e67d225668fa1f8d618c13dc232df0ca...</td>\n",
       "      <td>00007d2de826758b65a93dd24ce629ed66842531df6699...</td>\n",
       "      <td>00007d2de826758b65a93dd24ce629ed66842531df6699...</td>\n",
       "      <td>00007d2de826758b65a93dd24ce629ed66842531df6699...</td>\n",
       "    </tr>\n",
       "    <tr>\n",
       "      <th>article_id</th>\n",
       "      <td>0663713001</td>\n",
       "      <td>0541518023</td>\n",
       "      <td>0505221004</td>\n",
       "      <td>0685687003</td>\n",
       "      <td>0685687004</td>\n",
       "    </tr>\n",
       "    <tr>\n",
       "      <th>price</th>\n",
       "      <td>0.050831</td>\n",
       "      <td>0.030492</td>\n",
       "      <td>0.015237</td>\n",
       "      <td>0.016932</td>\n",
       "      <td>0.016932</td>\n",
       "    </tr>\n",
       "    <tr>\n",
       "      <th>sales_channel_id</th>\n",
       "      <td>2</td>\n",
       "      <td>2</td>\n",
       "      <td>2</td>\n",
       "      <td>2</td>\n",
       "      <td>2</td>\n",
       "    </tr>\n",
       "  </tbody>\n",
       "</table>\n",
       "</div>"
      ],
      "text/plain": [
       "                                                                  0  \\\n",
       "t_dat                                           2018-09-20 00:00:00   \n",
       "customer_id       000058a12d5b43e67d225668fa1f8d618c13dc232df0ca...   \n",
       "article_id                                               0663713001   \n",
       "price                                                      0.050831   \n",
       "sales_channel_id                                                  2   \n",
       "\n",
       "                                                                  1  \\\n",
       "t_dat                                           2018-09-20 00:00:00   \n",
       "customer_id       000058a12d5b43e67d225668fa1f8d618c13dc232df0ca...   \n",
       "article_id                                               0541518023   \n",
       "price                                                      0.030492   \n",
       "sales_channel_id                                                  2   \n",
       "\n",
       "                                                                  2  \\\n",
       "t_dat                                           2018-09-20 00:00:00   \n",
       "customer_id       00007d2de826758b65a93dd24ce629ed66842531df6699...   \n",
       "article_id                                               0505221004   \n",
       "price                                                      0.015237   \n",
       "sales_channel_id                                                  2   \n",
       "\n",
       "                                                                  3  \\\n",
       "t_dat                                           2018-09-20 00:00:00   \n",
       "customer_id       00007d2de826758b65a93dd24ce629ed66842531df6699...   \n",
       "article_id                                               0685687003   \n",
       "price                                                      0.016932   \n",
       "sales_channel_id                                                  2   \n",
       "\n",
       "                                                                  4  \n",
       "t_dat                                           2018-09-20 00:00:00  \n",
       "customer_id       00007d2de826758b65a93dd24ce629ed66842531df6699...  \n",
       "article_id                                               0685687004  \n",
       "price                                                      0.016932  \n",
       "sales_channel_id                                                  2  "
      ]
     },
     "execution_count": 5,
     "metadata": {},
     "output_type": "execute_result"
    }
   ],
   "source": [
    "train_df.head().T"
   ]
  },
  {
   "cell_type": "code",
   "execution_count": 6,
   "metadata": {},
   "outputs": [
    {
     "data": {
      "text/html": [
       "<div>\n",
       "<style scoped>\n",
       "    .dataframe tbody tr th:only-of-type {\n",
       "        vertical-align: middle;\n",
       "    }\n",
       "\n",
       "    .dataframe tbody tr th {\n",
       "        vertical-align: top;\n",
       "    }\n",
       "\n",
       "    .dataframe thead th {\n",
       "        text-align: right;\n",
       "    }\n",
       "</style>\n",
       "<table border=\"1\" class=\"dataframe\">\n",
       "  <thead>\n",
       "    <tr style=\"text-align: right;\">\n",
       "      <th></th>\n",
       "      <th>0</th>\n",
       "      <th>1</th>\n",
       "      <th>2</th>\n",
       "      <th>3</th>\n",
       "      <th>4</th>\n",
       "    </tr>\n",
       "  </thead>\n",
       "  <tbody>\n",
       "    <tr>\n",
       "      <th>customer_id</th>\n",
       "      <td>00000dbacae5abe5e23885899a1fa44253a17956c6d1c3...</td>\n",
       "      <td>0000423b00ade91418cceaf3b26c6af3dd342b51fd051e...</td>\n",
       "      <td>000058a12d5b43e67d225668fa1f8d618c13dc232df0ca...</td>\n",
       "      <td>00005ca1c9ed5f5146b52ac8639a40ca9d57aeff4d1bd2...</td>\n",
       "      <td>00006413d8573cd20ed7128e53b7b13819fe5cfc2d801f...</td>\n",
       "    </tr>\n",
       "    <tr>\n",
       "      <th>FN</th>\n",
       "      <td>NaN</td>\n",
       "      <td>NaN</td>\n",
       "      <td>NaN</td>\n",
       "      <td>NaN</td>\n",
       "      <td>1.0</td>\n",
       "    </tr>\n",
       "    <tr>\n",
       "      <th>Active</th>\n",
       "      <td>NaN</td>\n",
       "      <td>NaN</td>\n",
       "      <td>NaN</td>\n",
       "      <td>NaN</td>\n",
       "      <td>1.0</td>\n",
       "    </tr>\n",
       "    <tr>\n",
       "      <th>club_member_status</th>\n",
       "      <td>ACTIVE</td>\n",
       "      <td>ACTIVE</td>\n",
       "      <td>ACTIVE</td>\n",
       "      <td>ACTIVE</td>\n",
       "      <td>ACTIVE</td>\n",
       "    </tr>\n",
       "    <tr>\n",
       "      <th>fashion_news_frequency</th>\n",
       "      <td>NONE</td>\n",
       "      <td>NONE</td>\n",
       "      <td>NONE</td>\n",
       "      <td>NONE</td>\n",
       "      <td>Regularly</td>\n",
       "    </tr>\n",
       "    <tr>\n",
       "      <th>age</th>\n",
       "      <td>49.0</td>\n",
       "      <td>25.0</td>\n",
       "      <td>24.0</td>\n",
       "      <td>54.0</td>\n",
       "      <td>52.0</td>\n",
       "    </tr>\n",
       "    <tr>\n",
       "      <th>postal_code</th>\n",
       "      <td>52043ee2162cf5aa7ee79974281641c6f11a68d276429a...</td>\n",
       "      <td>2973abc54daa8a5f8ccfe9362140c63247c5eee03f1d93...</td>\n",
       "      <td>64f17e6a330a85798e4998f62d0930d14db8db1c054af6...</td>\n",
       "      <td>5d36574f52495e81f019b680c843c443bd343d5ca5b1c2...</td>\n",
       "      <td>25fa5ddee9aac01b35208d01736e57942317d756b32ddd...</td>\n",
       "    </tr>\n",
       "  </tbody>\n",
       "</table>\n",
       "</div>"
      ],
      "text/plain": [
       "                                                                        0  \\\n",
       "customer_id             00000dbacae5abe5e23885899a1fa44253a17956c6d1c3...   \n",
       "FN                                                                    NaN   \n",
       "Active                                                                NaN   \n",
       "club_member_status                                                 ACTIVE   \n",
       "fashion_news_frequency                                               NONE   \n",
       "age                                                                  49.0   \n",
       "postal_code             52043ee2162cf5aa7ee79974281641c6f11a68d276429a...   \n",
       "\n",
       "                                                                        1  \\\n",
       "customer_id             0000423b00ade91418cceaf3b26c6af3dd342b51fd051e...   \n",
       "FN                                                                    NaN   \n",
       "Active                                                                NaN   \n",
       "club_member_status                                                 ACTIVE   \n",
       "fashion_news_frequency                                               NONE   \n",
       "age                                                                  25.0   \n",
       "postal_code             2973abc54daa8a5f8ccfe9362140c63247c5eee03f1d93...   \n",
       "\n",
       "                                                                        2  \\\n",
       "customer_id             000058a12d5b43e67d225668fa1f8d618c13dc232df0ca...   \n",
       "FN                                                                    NaN   \n",
       "Active                                                                NaN   \n",
       "club_member_status                                                 ACTIVE   \n",
       "fashion_news_frequency                                               NONE   \n",
       "age                                                                  24.0   \n",
       "postal_code             64f17e6a330a85798e4998f62d0930d14db8db1c054af6...   \n",
       "\n",
       "                                                                        3  \\\n",
       "customer_id             00005ca1c9ed5f5146b52ac8639a40ca9d57aeff4d1bd2...   \n",
       "FN                                                                    NaN   \n",
       "Active                                                                NaN   \n",
       "club_member_status                                                 ACTIVE   \n",
       "fashion_news_frequency                                               NONE   \n",
       "age                                                                  54.0   \n",
       "postal_code             5d36574f52495e81f019b680c843c443bd343d5ca5b1c2...   \n",
       "\n",
       "                                                                        4  \n",
       "customer_id             00006413d8573cd20ed7128e53b7b13819fe5cfc2d801f...  \n",
       "FN                                                                    1.0  \n",
       "Active                                                                1.0  \n",
       "club_member_status                                                 ACTIVE  \n",
       "fashion_news_frequency                                          Regularly  \n",
       "age                                                                  52.0  \n",
       "postal_code             25fa5ddee9aac01b35208d01736e57942317d756b32ddd...  "
      ]
     },
     "execution_count": 6,
     "metadata": {},
     "output_type": "execute_result"
    }
   ],
   "source": [
    "customer.head().T"
   ]
  },
  {
   "cell_type": "markdown",
   "metadata": {},
   "source": [
    "Basic Exploration for each Dataset"
   ]
  },
  {
   "cell_type": "markdown",
   "metadata": {},
   "source": [
    "Customer Dataset"
   ]
  },
  {
   "cell_type": "code",
   "execution_count": 7,
   "metadata": {},
   "outputs": [
    {
     "data": {
      "text/plain": [
       "customer_id                0.000000\n",
       "FN                        65.237831\n",
       "Active                    66.150819\n",
       "club_member_status         0.441843\n",
       "fashion_news_frequency     1.166854\n",
       "age                        1.156066\n",
       "postal_code                0.000000\n",
       "dtype: float64"
      ]
     },
     "execution_count": 7,
     "metadata": {},
     "output_type": "execute_result"
    }
   ],
   "source": [
    "100*customer.isnull().sum()/customer.shape[0]"
   ]
  },
  {
   "cell_type": "code",
   "execution_count": 8,
   "metadata": {},
   "outputs": [
    {
     "data": {
      "text/plain": [
       "customer_id               1371980\n",
       "FN                              1\n",
       "Active                          1\n",
       "club_member_status              3\n",
       "fashion_news_frequency          4\n",
       "age                            84\n",
       "postal_code                352899\n",
       "dtype: int64"
      ]
     },
     "execution_count": 8,
     "metadata": {},
     "output_type": "execute_result"
    }
   ],
   "source": [
    "customer.nunique()"
   ]
  },
  {
   "cell_type": "code",
   "execution_count": 9,
   "metadata": {},
   "outputs": [
    {
     "data": {
      "text/plain": [
       "1.0    476930\n",
       "Name: FN, dtype: int64"
      ]
     },
     "execution_count": 9,
     "metadata": {},
     "output_type": "execute_result"
    }
   ],
   "source": [
    "customer['FN'].value_counts()"
   ]
  },
  {
   "cell_type": "code",
   "execution_count": 10,
   "metadata": {},
   "outputs": [
    {
     "data": {
      "text/plain": [
       "1.0    464404\n",
       "Name: Active, dtype: int64"
      ]
     },
     "execution_count": 10,
     "metadata": {},
     "output_type": "execute_result"
    }
   ],
   "source": [
    "customer['Active'].value_counts()"
   ]
  },
  {
   "cell_type": "code",
   "execution_count": 11,
   "metadata": {},
   "outputs": [
    {
     "data": {
      "text/plain": [
       "ACTIVE        1272491\n",
       "PRE-CREATE      92960\n",
       "LEFT CLUB         467\n",
       "Name: club_member_status, dtype: int64"
      ]
     },
     "execution_count": 11,
     "metadata": {},
     "output_type": "execute_result"
    }
   ],
   "source": [
    "customer['club_member_status'].value_counts()"
   ]
  },
  {
   "cell_type": "code",
   "execution_count": 12,
   "metadata": {},
   "outputs": [
    {
     "data": {
      "text/plain": [
       "NONE         877711\n",
       "Regularly    477416\n",
       "Monthly         842\n",
       "None              2\n",
       "Name: fashion_news_frequency, dtype: int64"
      ]
     },
     "execution_count": 12,
     "metadata": {},
     "output_type": "execute_result"
    }
   ],
   "source": [
    "customer['fashion_news_frequency'].value_counts()"
   ]
  },
  {
   "cell_type": "code",
   "execution_count": 13,
   "metadata": {},
   "outputs": [
    {
     "data": {
      "text/plain": [
       "<AxesSubplot:xlabel='Active', ylabel='Count'>"
      ]
     },
     "execution_count": 13,
     "metadata": {},
     "output_type": "execute_result"
    },
    {
     "data": {
      "image/png": "[encoded data removed]",
      "text/plain": [
       "<Figure size 432x288 with 1 Axes>"
      ]
     },
     "metadata": {
      "needs_background": "light"
     },
     "output_type": "display_data"
    }
   ],
   "source": [
    "import seaborn as sns\n",
    "sns.histplot(customer['Active'])"
   ]
  },
  {
   "cell_type": "code",
   "execution_count": 14,
   "metadata": {},
   "outputs": [
    {
     "data": {
      "text/plain": [
       "<AxesSubplot:xlabel='club_member_status', ylabel='Count'>"
      ]
     },
     "execution_count": 14,
     "metadata": {},
     "output_type": "execute_result"
    },
    {
     "data": {
      "image/png": "[encoded data removed]",
      "text/plain": [
       "<Figure size 432x288 with 1 Axes>"
      ]
     },
     "metadata": {
      "needs_background": "light"
     },
     "output_type": "display_data"
    }
   ],
   "source": [
    "sns.histplot(customer['club_member_status'])"
   ]
  },
  {
   "cell_type": "code",
   "execution_count": 15,
   "metadata": {},
   "outputs": [
    {
     "data": {
      "text/plain": [
       "<AxesSubplot:xlabel='fashion_news_frequency', ylabel='Count'>"
      ]
     },
     "execution_count": 15,
     "metadata": {},
     "output_type": "execute_result"
    },
    {
     "data": {
      "image/png": "[encoded data removed]",
      "text/plain": [
       "<Figure size 432x288 with 1 Axes>"
      ]
     },
     "metadata": {
      "needs_background": "light"
     },
     "output_type": "display_data"
    }
   ],
   "source": [
    "sns.histplot(customer['fashion_news_frequency'])"
   ]
  },
  {
   "cell_type": "code",
   "execution_count": 16,
   "metadata": {},
   "outputs": [
    {
     "data": {
      "text/plain": [
       "<seaborn.axisgrid.FacetGrid at 0x176bb17cca0>"
      ]
     },
     "execution_count": 16,
     "metadata": {},
     "output_type": "execute_result"
    },
    {
     "data": {
      "image/png": "[encoded data removed]",
      "text/plain": [
       "<Figure size 360x360 with 1 Axes>"
      ]
     },
     "metadata": {
      "needs_background": "light"
     },
     "output_type": "display_data"
    }
   ],
   "source": [
    "sns.displot(customer['age'])"
   ]
  },
  {
   "cell_type": "code",
   "execution_count": 17,
   "metadata": {},
   "outputs": [
    {
     "data": {
      "text/plain": [
       "<matplotlib.legend.Legend at 0x176b7a57280>"
      ]
     },
     "execution_count": 17,
     "metadata": {},
     "output_type": "execute_result"
    },
    {
     "data": {
      "image/png": "[encoded data removed]",
      "text/plain": [
       "<Figure size 432x288 with 1 Axes>"
      ]
     },
     "metadata": {
      "needs_background": "light"
     },
     "output_type": "display_data"
    }
   ],
   "source": [
    "sns.countplot(x='club_member_status',data=customer,hue='fashion_news_frequency')\n",
    "plt.legend(bbox_to_anchor=(1.01, 1),\n",
    "           borderaxespad=0)"
   ]
  },
  {
   "cell_type": "code",
   "execution_count": 18,
   "metadata": {},
   "outputs": [
    {
     "data": {
      "text/plain": [
       "<seaborn.axisgrid.FacetGrid at 0x176bbc7d850>"
      ]
     },
     "execution_count": 18,
     "metadata": {},
     "output_type": "execute_result"
    },
    {
     "data": {
      "image/png": "[encoded data removed]",
      "text/plain": [
       "<Figure size 360x360 with 1 Axes>"
      ]
     },
     "metadata": {
      "needs_background": "light"
     },
     "output_type": "display_data"
    }
   ],
   "source": [
    "sns.catplot(x='club_member_status',y='age', data=customer)"
   ]
  },
  {
   "cell_type": "code",
   "execution_count": 19,
   "metadata": {},
   "outputs": [
    {
     "data": {
      "text/plain": [
       "<AxesSubplot:xlabel='club_member_status', ylabel='age'>"
      ]
     },
     "execution_count": 19,
     "metadata": {},
     "output_type": "execute_result"
    },
    {
     "data": {
      "image/png": "[encoded data removed]",
      "text/plain": [
       "<Figure size 432x288 with 1 Axes>"
      ]
     },
     "metadata": {
      "needs_background": "light"
     },
     "output_type": "display_data"
    }
   ],
   "source": [
    "sns.boxplot(x='club_member_status',y='age',data=customer)"
   ]
  },
  {
   "cell_type": "code",
   "execution_count": 20,
   "metadata": {},
   "outputs": [
    {
     "data": {
      "text/plain": [
       "<seaborn.axisgrid.FacetGrid at 0x176bbcebf40>"
      ]
     },
     "execution_count": 20,
     "metadata": {},
     "output_type": "execute_result"
    },
    {
     "data": {
      "image/png": "[encoded data removed]",
      "text/plain": [
       "<Figure size 360x360 with 1 Axes>"
      ]
     },
     "metadata": {
      "needs_background": "light"
     },
     "output_type": "display_data"
    }
   ],
   "source": [
    "sns.displot(customer[customer.club_member_status == 'ACTIVE']['age'])"
   ]
  },
  {
   "cell_type": "code",
   "execution_count": 21,
   "metadata": {},
   "outputs": [
    {
     "data": {
      "text/plain": [
       "<seaborn.axisgrid.FacetGrid at 0x176dce5d640>"
      ]
     },
     "execution_count": 21,
     "metadata": {},
     "output_type": "execute_result"
    },
    {
     "data": {
      "image/png": "[encoded data removed]",
      "text/plain": [
       "<Figure size 360x360 with 1 Axes>"
      ]
     },
     "metadata": {
      "needs_background": "light"
     },
     "output_type": "display_data"
    }
   ],
   "source": [
    "sns.displot(customer[customer.club_member_status == 'PRE-CREATE']['age'])"
   ]
  },
  {
   "cell_type": "code",
   "execution_count": 22,
   "metadata": {},
   "outputs": [
    {
     "data": {
      "text/plain": [
       "<AxesSubplot:xlabel='age', ylabel='Count'>"
      ]
     },
     "execution_count": 22,
     "metadata": {},
     "output_type": "execute_result"
    },
    {
     "data": {
      "image/png": "[encoded data removed]",
      "text/plain": [
       "<Figure size 432x288 with 1 Axes>"
      ]
     },
     "metadata": {
      "needs_background": "light"
     },
     "output_type": "display_data"
    }
   ],
   "source": [
    "sns.histplot(customer[customer.club_member_status == 'LEFT CLUB']['age'])"
   ]
  },
  {
   "cell_type": "code",
   "execution_count": 23,
   "metadata": {},
   "outputs": [
    {
     "name": "stdout",
     "output_type": "stream",
     "text": [
      "99.0\n",
      "16.0\n"
     ]
    }
   ],
   "source": [
    "print(customer['age'].max())\n",
    "print(customer['age'].min())"
   ]
  },
  {
   "cell_type": "markdown",
   "metadata": {},
   "source": [
    "Transaction Dataset"
   ]
  },
  {
   "cell_type": "code",
   "execution_count": 24,
   "metadata": {},
   "outputs": [
    {
     "data": {
      "text/plain": [
       "t_dat               0.0\n",
       "customer_id         0.0\n",
       "article_id          0.0\n",
       "price               0.0\n",
       "sales_channel_id    0.0\n",
       "dtype: float64"
      ]
     },
     "execution_count": 24,
     "metadata": {},
     "output_type": "execute_result"
    }
   ],
   "source": [
    "100*train_df.isnull().sum()/train_df.shape[0]"
   ]
  },
  {
   "cell_type": "code",
   "execution_count": 25,
   "metadata": {},
   "outputs": [
    {
     "data": {
      "text/plain": [
       "t_dat                   734\n",
       "customer_id         1362281\n",
       "article_id           104547\n",
       "price                  9857\n",
       "sales_channel_id          2\n",
       "dtype: int64"
      ]
     },
     "execution_count": 25,
     "metadata": {},
     "output_type": "execute_result"
    }
   ],
   "source": [
    "train_df.nunique()"
   ]
  },
  {
   "cell_type": "code",
   "execution_count": 26,
   "metadata": {},
   "outputs": [
    {
     "data": {
      "text/plain": [
       "(31788324, 5)"
      ]
     },
     "execution_count": 26,
     "metadata": {},
     "output_type": "execute_result"
    }
   ],
   "source": [
    "train_df.shape"
   ]
  },
  {
   "cell_type": "code",
   "execution_count": 27,
   "metadata": {},
   "outputs": [
    {
     "data": {
      "text/html": [
       "<div>\n",
       "<style scoped>\n",
       "    .dataframe tbody tr th:only-of-type {\n",
       "        vertical-align: middle;\n",
       "    }\n",
       "\n",
       "    .dataframe tbody tr th {\n",
       "        vertical-align: top;\n",
       "    }\n",
       "\n",
       "    .dataframe thead th {\n",
       "        text-align: right;\n",
       "    }\n",
       "</style>\n",
       "<table border=\"1\" class=\"dataframe\">\n",
       "  <thead>\n",
       "    <tr style=\"text-align: right;\">\n",
       "      <th></th>\n",
       "      <th>t_dat</th>\n",
       "      <th>customer_id</th>\n",
       "      <th>article_id</th>\n",
       "      <th>price</th>\n",
       "      <th>sales_channel_id</th>\n",
       "    </tr>\n",
       "  </thead>\n",
       "  <tbody>\n",
       "    <tr>\n",
       "      <th>15</th>\n",
       "      <td>2018-09-20</td>\n",
       "      <td>000aa7f0dc06cd7174389e76c9e132a67860c5f65f9706...</td>\n",
       "      <td>0501820043</td>\n",
       "      <td>0.016932</td>\n",
       "      <td>2</td>\n",
       "    </tr>\n",
       "    <tr>\n",
       "      <th>18</th>\n",
       "      <td>2018-09-20</td>\n",
       "      <td>000aa7f0dc06cd7174389e76c9e132a67860c5f65f9706...</td>\n",
       "      <td>0671505001</td>\n",
       "      <td>0.033881</td>\n",
       "      <td>2</td>\n",
       "    </tr>\n",
       "    <tr>\n",
       "      <th>20</th>\n",
       "      <td>2018-09-20</td>\n",
       "      <td>000aa7f0dc06cd7174389e76c9e132a67860c5f65f9706...</td>\n",
       "      <td>0631848002</td>\n",
       "      <td>0.033881</td>\n",
       "      <td>2</td>\n",
       "    </tr>\n",
       "    <tr>\n",
       "      <th>21</th>\n",
       "      <td>2018-09-20</td>\n",
       "      <td>000aa7f0dc06cd7174389e76c9e132a67860c5f65f9706...</td>\n",
       "      <td>0631848002</td>\n",
       "      <td>0.033881</td>\n",
       "      <td>2</td>\n",
       "    </tr>\n",
       "    <tr>\n",
       "      <th>22</th>\n",
       "      <td>2018-09-20</td>\n",
       "      <td>000aa7f0dc06cd7174389e76c9e132a67860c5f65f9706...</td>\n",
       "      <td>0631848002</td>\n",
       "      <td>0.033881</td>\n",
       "      <td>2</td>\n",
       "    </tr>\n",
       "    <tr>\n",
       "      <th>...</th>\n",
       "      <td>...</td>\n",
       "      <td>...</td>\n",
       "      <td>...</td>\n",
       "      <td>...</td>\n",
       "      <td>...</td>\n",
       "    </tr>\n",
       "    <tr>\n",
       "      <th>31788268</th>\n",
       "      <td>2020-09-22</td>\n",
       "      <td>ff54fe15368409b7d0d691cdeebe2d6a3fee5178105277...</td>\n",
       "      <td>0885315003</td>\n",
       "      <td>0.050102</td>\n",
       "      <td>2</td>\n",
       "    </tr>\n",
       "    <tr>\n",
       "      <th>31788269</th>\n",
       "      <td>2020-09-22</td>\n",
       "      <td>ff54fe15368409b7d0d691cdeebe2d6a3fee5178105277...</td>\n",
       "      <td>0885315003</td>\n",
       "      <td>0.050102</td>\n",
       "      <td>2</td>\n",
       "    </tr>\n",
       "    <tr>\n",
       "      <th>31788282</th>\n",
       "      <td>2020-09-22</td>\n",
       "      <td>ff6f55a51af284b71dcd264396b299e548f968c1769e71...</td>\n",
       "      <td>0919786002</td>\n",
       "      <td>0.042356</td>\n",
       "      <td>2</td>\n",
       "    </tr>\n",
       "    <tr>\n",
       "      <th>31788292</th>\n",
       "      <td>2020-09-22</td>\n",
       "      <td>ff94f31e864d9b655643ac4d2adab3611c7241adb5d34c...</td>\n",
       "      <td>0901666001</td>\n",
       "      <td>0.084729</td>\n",
       "      <td>2</td>\n",
       "    </tr>\n",
       "    <tr>\n",
       "      <th>31788312</th>\n",
       "      <td>2020-09-22</td>\n",
       "      <td>ffd4cf2217de4a0a3f9f610cdec334c803692a18af08ac...</td>\n",
       "      <td>0791587021</td>\n",
       "      <td>0.025407</td>\n",
       "      <td>2</td>\n",
       "    </tr>\n",
       "  </tbody>\n",
       "</table>\n",
       "<p>2974905 rows × 5 columns</p>\n",
       "</div>"
      ],
      "text/plain": [
       "              t_dat                                        customer_id  \\\n",
       "15       2018-09-20  000aa7f0dc06cd7174389e76c9e132a67860c5f65f9706...   \n",
       "18       2018-09-20  000aa7f0dc06cd7174389e76c9e132a67860c5f65f9706...   \n",
       "20       2018-09-20  000aa7f0dc06cd7174389e76c9e132a67860c5f65f9706...   \n",
       "21       2018-09-20  000aa7f0dc06cd7174389e76c9e132a67860c5f65f9706...   \n",
       "22       2018-09-20  000aa7f0dc06cd7174389e76c9e132a67860c5f65f9706...   \n",
       "...             ...                                                ...   \n",
       "31788268 2020-09-22  ff54fe15368409b7d0d691cdeebe2d6a3fee5178105277...   \n",
       "31788269 2020-09-22  ff54fe15368409b7d0d691cdeebe2d6a3fee5178105277...   \n",
       "31788282 2020-09-22  ff6f55a51af284b71dcd264396b299e548f968c1769e71...   \n",
       "31788292 2020-09-22  ff94f31e864d9b655643ac4d2adab3611c7241adb5d34c...   \n",
       "31788312 2020-09-22  ffd4cf2217de4a0a3f9f610cdec334c803692a18af08ac...   \n",
       "\n",
       "          article_id     price  sales_channel_id  \n",
       "15        0501820043  0.016932                 2  \n",
       "18        0671505001  0.033881                 2  \n",
       "20        0631848002  0.033881                 2  \n",
       "21        0631848002  0.033881                 2  \n",
       "22        0631848002  0.033881                 2  \n",
       "...              ...       ...               ...  \n",
       "31788268  0885315003  0.050102                 2  \n",
       "31788269  0885315003  0.050102                 2  \n",
       "31788282  0919786002  0.042356                 2  \n",
       "31788292  0901666001  0.084729                 2  \n",
       "31788312  0791587021  0.025407                 2  \n",
       "\n",
       "[2974905 rows x 5 columns]"
      ]
     },
     "execution_count": 27,
     "metadata": {},
     "output_type": "execute_result"
    }
   ],
   "source": [
    "train_df[train_df.duplicated()]"
   ]
  },
  {
   "cell_type": "code",
   "execution_count": 28,
   "metadata": {},
   "outputs": [
    {
     "data": {
      "text/html": [
       "<div>\n",
       "<style scoped>\n",
       "    .dataframe tbody tr th:only-of-type {\n",
       "        vertical-align: middle;\n",
       "    }\n",
       "\n",
       "    .dataframe tbody tr th {\n",
       "        vertical-align: top;\n",
       "    }\n",
       "\n",
       "    .dataframe thead th {\n",
       "        text-align: right;\n",
       "    }\n",
       "</style>\n",
       "<table border=\"1\" class=\"dataframe\">\n",
       "  <thead>\n",
       "    <tr style=\"text-align: right;\">\n",
       "      <th></th>\n",
       "      <th>t_dat</th>\n",
       "      <th>customer_id</th>\n",
       "      <th>article_id</th>\n",
       "      <th>price</th>\n",
       "      <th>sales_channel_id</th>\n",
       "    </tr>\n",
       "  </thead>\n",
       "  <tbody>\n",
       "  </tbody>\n",
       "</table>\n",
       "</div>"
      ],
      "text/plain": [
       "Empty DataFrame\n",
       "Columns: [t_dat, customer_id, article_id, price, sales_channel_id]\n",
       "Index: []"
      ]
     },
     "execution_count": 28,
     "metadata": {},
     "output_type": "execute_result"
    }
   ],
   "source": [
    "train_df[(train_df.t_dat == '2018-09-20') & \n",
    "         (train_df.article_id == 501820043) &\n",
    "         (train_df.customer_id == '000aa7f0dc06cd7174389e76c9e132a67860c5f65f970699daccc14425ac31a8')]"
   ]
  },
  {
   "cell_type": "code",
   "execution_count": 29,
   "metadata": {},
   "outputs": [],
   "source": [
    "purchases_counts = train_df['article_id'].value_counts().reset_index()\n",
    "purchases_counts.columns = ['article_id', 'qty']"
   ]
  },
  {
   "cell_type": "markdown",
   "metadata": {},
   "source": [
    "Highly Purchased Articles"
   ]
  },
  {
   "cell_type": "code",
   "execution_count": 30,
   "metadata": {},
   "outputs": [
    {
     "data": {
      "text/html": [
       "<div>\n",
       "<style scoped>\n",
       "    .dataframe tbody tr th:only-of-type {\n",
       "        vertical-align: middle;\n",
       "    }\n",
       "\n",
       "    .dataframe tbody tr th {\n",
       "        vertical-align: top;\n",
       "    }\n",
       "\n",
       "    .dataframe thead th {\n",
       "        text-align: right;\n",
       "    }\n",
       "</style>\n",
       "<table border=\"1\" class=\"dataframe\">\n",
       "  <thead>\n",
       "    <tr style=\"text-align: right;\">\n",
       "      <th></th>\n",
       "      <th>article_id</th>\n",
       "      <th>qty</th>\n",
       "    </tr>\n",
       "  </thead>\n",
       "  <tbody>\n",
       "    <tr>\n",
       "      <th>0</th>\n",
       "      <td>0706016001</td>\n",
       "      <td>50287</td>\n",
       "    </tr>\n",
       "    <tr>\n",
       "      <th>1</th>\n",
       "      <td>0706016002</td>\n",
       "      <td>35043</td>\n",
       "    </tr>\n",
       "    <tr>\n",
       "      <th>2</th>\n",
       "      <td>0372860001</td>\n",
       "      <td>31718</td>\n",
       "    </tr>\n",
       "    <tr>\n",
       "      <th>3</th>\n",
       "      <td>0610776002</td>\n",
       "      <td>30199</td>\n",
       "    </tr>\n",
       "    <tr>\n",
       "      <th>4</th>\n",
       "      <td>0759871002</td>\n",
       "      <td>26329</td>\n",
       "    </tr>\n",
       "    <tr>\n",
       "      <th>5</th>\n",
       "      <td>0464297007</td>\n",
       "      <td>25025</td>\n",
       "    </tr>\n",
       "    <tr>\n",
       "      <th>6</th>\n",
       "      <td>0372860002</td>\n",
       "      <td>24458</td>\n",
       "    </tr>\n",
       "    <tr>\n",
       "      <th>7</th>\n",
       "      <td>0610776001</td>\n",
       "      <td>22451</td>\n",
       "    </tr>\n",
       "    <tr>\n",
       "      <th>8</th>\n",
       "      <td>0399223001</td>\n",
       "      <td>22236</td>\n",
       "    </tr>\n",
       "    <tr>\n",
       "      <th>9</th>\n",
       "      <td>0706016003</td>\n",
       "      <td>21241</td>\n",
       "    </tr>\n",
       "  </tbody>\n",
       "</table>\n",
       "</div>"
      ],
      "text/plain": [
       "   article_id    qty\n",
       "0  0706016001  50287\n",
       "1  0706016002  35043\n",
       "2  0372860001  31718\n",
       "3  0610776002  30199\n",
       "4  0759871002  26329\n",
       "5  0464297007  25025\n",
       "6  0372860002  24458\n",
       "7  0610776001  22451\n",
       "8  0399223001  22236\n",
       "9  0706016003  21241"
      ]
     },
     "execution_count": 30,
     "metadata": {},
     "output_type": "execute_result"
    }
   ],
   "source": [
    "purchases_counts.head(10)"
   ]
  },
  {
   "cell_type": "code",
   "execution_count": 31,
   "metadata": {},
   "outputs": [
    {
     "data": {
      "text/plain": [
       "(array([0, 1, 2, 3, 4, 5, 6, 7, 8, 9]),\n",
       " [Text(0, 0, '0706016001'),\n",
       "  Text(1, 0, '0706016002'),\n",
       "  Text(2, 0, '0372860001'),\n",
       "  Text(3, 0, '0610776002'),\n",
       "  Text(4, 0, '0759871002'),\n",
       "  Text(5, 0, '0464297007'),\n",
       "  Text(6, 0, '0372860002'),\n",
       "  Text(7, 0, '0610776001'),\n",
       "  Text(8, 0, '0399223001'),\n",
       "  Text(9, 0, '0706016003')])"
      ]
     },
     "execution_count": 31,
     "metadata": {},
     "output_type": "execute_result"
    },
    {
     "data": {
      "image/png": "[encoded data removed]",
      "text/plain": [
       "<Figure size 432x288 with 1 Axes>"
      ]
     },
     "metadata": {
      "needs_background": "light"
     },
     "output_type": "display_data"
    }
   ],
   "source": [
    "sns.barplot(x = 'article_id',\n",
    "            y = 'qty',\n",
    "            data = purchases_counts.head(10))\n",
    "plt.xticks(rotation=90)"
   ]
  },
  {
   "cell_type": "markdown",
   "metadata": {},
   "source": [
    "Least Purcahsed Articles"
   ]
  },
  {
   "cell_type": "code",
   "execution_count": 32,
   "metadata": {},
   "outputs": [
    {
     "data": {
      "text/html": [
       "<div>\n",
       "<style scoped>\n",
       "    .dataframe tbody tr th:only-of-type {\n",
       "        vertical-align: middle;\n",
       "    }\n",
       "\n",
       "    .dataframe tbody tr th {\n",
       "        vertical-align: top;\n",
       "    }\n",
       "\n",
       "    .dataframe thead th {\n",
       "        text-align: right;\n",
       "    }\n",
       "</style>\n",
       "<table border=\"1\" class=\"dataframe\">\n",
       "  <thead>\n",
       "    <tr style=\"text-align: right;\">\n",
       "      <th></th>\n",
       "      <th>article_id</th>\n",
       "      <th>qty</th>\n",
       "    </tr>\n",
       "  </thead>\n",
       "  <tbody>\n",
       "    <tr>\n",
       "      <th>104537</th>\n",
       "      <td>0621558004</td>\n",
       "      <td>1</td>\n",
       "    </tr>\n",
       "    <tr>\n",
       "      <th>104538</th>\n",
       "      <td>0240840032</td>\n",
       "      <td>1</td>\n",
       "    </tr>\n",
       "    <tr>\n",
       "      <th>104539</th>\n",
       "      <td>0534359001</td>\n",
       "      <td>1</td>\n",
       "    </tr>\n",
       "    <tr>\n",
       "      <th>104540</th>\n",
       "      <td>0653909001</td>\n",
       "      <td>1</td>\n",
       "    </tr>\n",
       "    <tr>\n",
       "      <th>104541</th>\n",
       "      <td>0591833010</td>\n",
       "      <td>1</td>\n",
       "    </tr>\n",
       "    <tr>\n",
       "      <th>104542</th>\n",
       "      <td>0520736002</td>\n",
       "      <td>1</td>\n",
       "    </tr>\n",
       "    <tr>\n",
       "      <th>104543</th>\n",
       "      <td>0619777003</td>\n",
       "      <td>1</td>\n",
       "    </tr>\n",
       "    <tr>\n",
       "      <th>104544</th>\n",
       "      <td>0586904003</td>\n",
       "      <td>1</td>\n",
       "    </tr>\n",
       "    <tr>\n",
       "      <th>104545</th>\n",
       "      <td>0512385003</td>\n",
       "      <td>1</td>\n",
       "    </tr>\n",
       "    <tr>\n",
       "      <th>104546</th>\n",
       "      <td>0533261032</td>\n",
       "      <td>1</td>\n",
       "    </tr>\n",
       "  </tbody>\n",
       "</table>\n",
       "</div>"
      ],
      "text/plain": [
       "        article_id  qty\n",
       "104537  0621558004    1\n",
       "104538  0240840032    1\n",
       "104539  0534359001    1\n",
       "104540  0653909001    1\n",
       "104541  0591833010    1\n",
       "104542  0520736002    1\n",
       "104543  0619777003    1\n",
       "104544  0586904003    1\n",
       "104545  0512385003    1\n",
       "104546  0533261032    1"
      ]
     },
     "execution_count": 32,
     "metadata": {},
     "output_type": "execute_result"
    }
   ],
   "source": [
    "purchases_counts.tail(10)"
   ]
  },
  {
   "cell_type": "markdown",
   "metadata": {},
   "source": [
    "Top Customers Based on Items Purchased"
   ]
  },
  {
   "cell_type": "code",
   "execution_count": 33,
   "metadata": {},
   "outputs": [],
   "source": [
    "customer_purchase_count = train_df['customer_id'].value_counts().reset_index()\n",
    "customer_purchase_count.columns  = ['customer_id', 'items_purchased']"
   ]
  },
  {
   "cell_type": "markdown",
   "metadata": {},
   "source": [
    "Top 10 Customers Based on Items Purchased"
   ]
  },
  {
   "cell_type": "code",
   "execution_count": 34,
   "metadata": {},
   "outputs": [
    {
     "data": {
      "text/plain": [
       "(array([0, 1, 2, 3, 4, 5, 6, 7, 8, 9]),\n",
       " [Text(0, 0, 'be1981ab818cf4ef6765b2ecaea7a2cbf14ccd6e8a7ee985513d9e8e53c6d91b'),\n",
       "  Text(1, 0, 'b4db5e5259234574edfff958e170fe3a5e13b6f146752ca066abca3c156acc71'),\n",
       "  Text(2, 0, '49beaacac0c7801c2ce2d189efe525fe80b5d37e46ed05b50a4cd88e34d0748f'),\n",
       "  Text(3, 0, 'a65f77281a528bf5c1e9f270141d601d116e1df33bf9df512f495ee06647a9cc'),\n",
       "  Text(4, 0, 'cd04ec2726dd58a8c753e0d6423e57716fd9ebcf2f14ed6012e7e5bea016b4d6'),\n",
       "  Text(5, 0, '55d15396193dfd45836af3a6269a079efea339e875eff42cc0c228b002548a9d'),\n",
       "  Text(6, 0, 'c140410d72a41ee5e2e3ba3d7f5a860f337f1b5e41c27cf9bda5517c8774f8fa'),\n",
       "  Text(7, 0, '8df45859ccd71ef1e48e2ee9d1c65d5728c31c46ae957d659fa4e5c3af6cc076'),\n",
       "  Text(8, 0, '03d0011487606c37c1b1ed147fc72f285a50c05f00b9712e0fc3da400c864296'),\n",
       "  Text(9, 0, '6cc121e5cc202d2bf344ffe795002bdbf87178054bcda2e57161f0ef810a4b55')])"
      ]
     },
     "execution_count": 34,
     "metadata": {},
     "output_type": "execute_result"
    },
    {
     "data": {
      "image/png": "[encoded data removed]",
      "text/plain": [
       "<Figure size 432x288 with 1 Axes>"
      ]
     },
     "metadata": {
      "needs_background": "light"
     },
     "output_type": "display_data"
    }
   ],
   "source": [
    "sns.barplot(x = 'customer_id',\n",
    "            y = 'items_purchased',\n",
    "            data = customer_purchase_count.head(10))\n",
    "plt.xticks(rotation=90)"
   ]
  },
  {
   "cell_type": "markdown",
   "metadata": {},
   "source": [
    "Top 10 Customers based on Sales Amount"
   ]
  },
  {
   "cell_type": "code",
   "execution_count": 35,
   "metadata": {},
   "outputs": [],
   "source": [
    "sales = train_df.groupby(['customer_id'])['price'].sum().reset_index()"
   ]
  },
  {
   "cell_type": "code",
   "execution_count": 36,
   "metadata": {},
   "outputs": [
    {
     "data": {
      "text/html": [
       "<div>\n",
       "<style scoped>\n",
       "    .dataframe tbody tr th:only-of-type {\n",
       "        vertical-align: middle;\n",
       "    }\n",
       "\n",
       "    .dataframe tbody tr th {\n",
       "        vertical-align: top;\n",
       "    }\n",
       "\n",
       "    .dataframe thead th {\n",
       "        text-align: right;\n",
       "    }\n",
       "</style>\n",
       "<table border=\"1\" class=\"dataframe\">\n",
       "  <thead>\n",
       "    <tr style=\"text-align: right;\">\n",
       "      <th></th>\n",
       "      <th>customer_id</th>\n",
       "      <th>price</th>\n",
       "    </tr>\n",
       "  </thead>\n",
       "  <tbody>\n",
       "    <tr>\n",
       "      <th>0</th>\n",
       "      <td>be1981ab818cf4ef6765b2ecaea7a2cbf14ccd6e8a7ee9...</td>\n",
       "      <td>57.676407</td>\n",
       "    </tr>\n",
       "    <tr>\n",
       "      <th>1</th>\n",
       "      <td>a65f77281a528bf5c1e9f270141d601d116e1df33bf9df...</td>\n",
       "      <td>50.921186</td>\n",
       "    </tr>\n",
       "    <tr>\n",
       "      <th>2</th>\n",
       "      <td>03d0011487606c37c1b1ed147fc72f285a50c05f00b971...</td>\n",
       "      <td>49.967169</td>\n",
       "    </tr>\n",
       "    <tr>\n",
       "      <th>3</th>\n",
       "      <td>191071b0e1f2e94a557f1a0b4cea3de55faf1581b1f464...</td>\n",
       "      <td>47.682017</td>\n",
       "    </tr>\n",
       "    <tr>\n",
       "      <th>4</th>\n",
       "      <td>b4db5e5259234574edfff958e170fe3a5e13b6f146752c...</td>\n",
       "      <td>47.662000</td>\n",
       "    </tr>\n",
       "    <tr>\n",
       "      <th>...</th>\n",
       "      <td>...</td>\n",
       "      <td>...</td>\n",
       "    </tr>\n",
       "    <tr>\n",
       "      <th>1362276</th>\n",
       "      <td>7ba686bcc845f1ea49b00e32c98cf6d9132fc29395a580...</td>\n",
       "      <td>0.000847</td>\n",
       "    </tr>\n",
       "    <tr>\n",
       "      <th>1362277</th>\n",
       "      <td>6ca58871020638aa7a7341b8108bf94c6de9258dde91dc...</td>\n",
       "      <td>0.000847</td>\n",
       "    </tr>\n",
       "    <tr>\n",
       "      <th>1362278</th>\n",
       "      <td>a2efffd45ccdc46ea647c1e18037200934b7c250a5f211...</td>\n",
       "      <td>0.000847</td>\n",
       "    </tr>\n",
       "    <tr>\n",
       "      <th>1362279</th>\n",
       "      <td>b6345f8bf3fdb4a9833a812e11aaebfd6e2f256e8834d4...</td>\n",
       "      <td>0.000847</td>\n",
       "    </tr>\n",
       "    <tr>\n",
       "      <th>1362280</th>\n",
       "      <td>a1c392de2f181fe9575721d44a6f115427e550e5feabd1...</td>\n",
       "      <td>0.000763</td>\n",
       "    </tr>\n",
       "  </tbody>\n",
       "</table>\n",
       "<p>1362281 rows × 2 columns</p>\n",
       "</div>"
      ],
      "text/plain": [
       "                                               customer_id      price\n",
       "0        be1981ab818cf4ef6765b2ecaea7a2cbf14ccd6e8a7ee9...  57.676407\n",
       "1        a65f77281a528bf5c1e9f270141d601d116e1df33bf9df...  50.921186\n",
       "2        03d0011487606c37c1b1ed147fc72f285a50c05f00b971...  49.967169\n",
       "3        191071b0e1f2e94a557f1a0b4cea3de55faf1581b1f464...  47.682017\n",
       "4        b4db5e5259234574edfff958e170fe3a5e13b6f146752c...  47.662000\n",
       "...                                                    ...        ...\n",
       "1362276  7ba686bcc845f1ea49b00e32c98cf6d9132fc29395a580...   0.000847\n",
       "1362277  6ca58871020638aa7a7341b8108bf94c6de9258dde91dc...   0.000847\n",
       "1362278  a2efffd45ccdc46ea647c1e18037200934b7c250a5f211...   0.000847\n",
       "1362279  b6345f8bf3fdb4a9833a812e11aaebfd6e2f256e8834d4...   0.000847\n",
       "1362280  a1c392de2f181fe9575721d44a6f115427e550e5feabd1...   0.000763\n",
       "\n",
       "[1362281 rows x 2 columns]"
      ]
     },
     "execution_count": 36,
     "metadata": {},
     "output_type": "execute_result"
    }
   ],
   "source": [
    "sales.sort_values(by = 'price', ascending = False, inplace = True)\n",
    "sales.reset_index(drop=True)"
   ]
  },
  {
   "cell_type": "code",
   "execution_count": 37,
   "metadata": {},
   "outputs": [
    {
     "data": {
      "text/plain": [
       "(array([0, 1, 2, 3, 4, 5, 6, 7, 8, 9]),\n",
       " [Text(0, 0, 'be1981ab818cf4ef6765b2ecaea7a2cbf14ccd6e8a7ee985513d9e8e53c6d91b'),\n",
       "  Text(1, 0, 'a65f77281a528bf5c1e9f270141d601d116e1df33bf9df512f495ee06647a9cc'),\n",
       "  Text(2, 0, '03d0011487606c37c1b1ed147fc72f285a50c05f00b9712e0fc3da400c864296'),\n",
       "  Text(3, 0, '191071b0e1f2e94a557f1a0b4cea3de55faf1581b1f46466ffe90664f73ec96e'),\n",
       "  Text(4, 0, 'b4db5e5259234574edfff958e170fe3a5e13b6f146752ca066abca3c156acc71'),\n",
       "  Text(5, 0, '6cc121e5cc202d2bf344ffe795002bdbf87178054bcda2e57161f0ef810a4b55'),\n",
       "  Text(6, 0, 'f137c16fd175271922dad4006565503952f24750a57388fe24970a218c62de6a'),\n",
       "  Text(7, 0, 'e97c3a6c680cd3569df10f901a61fdffaf8f70300f6adf6e266b80c87d54245a'),\n",
       "  Text(8, 0, '863f0e03da282ae32a76775ce55d8a4605a85c84a26066e1ad0e9469e8c40e68'),\n",
       "  Text(9, 0, 'cd04ec2726dd58a8c753e0d6423e57716fd9ebcf2f14ed6012e7e5bea016b4d6')])"
      ]
     },
     "execution_count": 37,
     "metadata": {},
     "output_type": "execute_result"
    },
    {
     "data": {
      "image/png": "[encoded data removed]",
      "text/plain": [
       "<Figure size 432x288 with 1 Axes>"
      ]
     },
     "metadata": {
      "needs_background": "light"
     },
     "output_type": "display_data"
    }
   ],
   "source": [
    "sns.barplot(x = 'customer_id',\n",
    "            y = 'price',\n",
    "            data = sales.head(10))\n",
    "plt.xticks(rotation=90)"
   ]
  },
  {
   "cell_type": "markdown",
   "metadata": {},
   "source": [
    "Top 10 Articles by Sales"
   ]
  },
  {
   "cell_type": "code",
   "execution_count": 38,
   "metadata": {},
   "outputs": [
    {
     "data": {
      "text/html": [
       "<div>\n",
       "<style scoped>\n",
       "    .dataframe tbody tr th:only-of-type {\n",
       "        vertical-align: middle;\n",
       "    }\n",
       "\n",
       "    .dataframe tbody tr th {\n",
       "        vertical-align: top;\n",
       "    }\n",
       "\n",
       "    .dataframe thead th {\n",
       "        text-align: right;\n",
       "    }\n",
       "</style>\n",
       "<table border=\"1\" class=\"dataframe\">\n",
       "  <thead>\n",
       "    <tr style=\"text-align: right;\">\n",
       "      <th></th>\n",
       "      <th>article_id</th>\n",
       "      <th>price</th>\n",
       "    </tr>\n",
       "  </thead>\n",
       "  <tbody>\n",
       "    <tr>\n",
       "      <th>0</th>\n",
       "      <td>0706016001</td>\n",
       "      <td>1631.732102</td>\n",
       "    </tr>\n",
       "    <tr>\n",
       "      <th>1</th>\n",
       "      <td>0706016002</td>\n",
       "      <td>1136.321085</td>\n",
       "    </tr>\n",
       "    <tr>\n",
       "      <th>2</th>\n",
       "      <td>0568601006</td>\n",
       "      <td>939.268593</td>\n",
       "    </tr>\n",
       "    <tr>\n",
       "      <th>3</th>\n",
       "      <td>0448509014</td>\n",
       "      <td>781.478390</td>\n",
       "    </tr>\n",
       "    <tr>\n",
       "      <th>4</th>\n",
       "      <td>0706016003</td>\n",
       "      <td>692.195915</td>\n",
       "    </tr>\n",
       "    <tr>\n",
       "      <th>...</th>\n",
       "      <td>...</td>\n",
       "      <td>...</td>\n",
       "    </tr>\n",
       "    <tr>\n",
       "      <th>104542</th>\n",
       "      <td>0407663007</td>\n",
       "      <td>0.000678</td>\n",
       "    </tr>\n",
       "    <tr>\n",
       "      <th>104543</th>\n",
       "      <td>0520431003</td>\n",
       "      <td>0.000678</td>\n",
       "    </tr>\n",
       "    <tr>\n",
       "      <th>104544</th>\n",
       "      <td>0405310006</td>\n",
       "      <td>0.000475</td>\n",
       "    </tr>\n",
       "    <tr>\n",
       "      <th>104545</th>\n",
       "      <td>0569052001</td>\n",
       "      <td>0.000441</td>\n",
       "    </tr>\n",
       "    <tr>\n",
       "      <th>104546</th>\n",
       "      <td>0344625009</td>\n",
       "      <td>0.000424</td>\n",
       "    </tr>\n",
       "  </tbody>\n",
       "</table>\n",
       "<p>104547 rows × 2 columns</p>\n",
       "</div>"
      ],
      "text/plain": [
       "        article_id        price\n",
       "0       0706016001  1631.732102\n",
       "1       0706016002  1136.321085\n",
       "2       0568601006   939.268593\n",
       "3       0448509014   781.478390\n",
       "4       0706016003   692.195915\n",
       "...            ...          ...\n",
       "104542  0407663007     0.000678\n",
       "104543  0520431003     0.000678\n",
       "104544  0405310006     0.000475\n",
       "104545  0569052001     0.000441\n",
       "104546  0344625009     0.000424\n",
       "\n",
       "[104547 rows x 2 columns]"
      ]
     },
     "execution_count": 38,
     "metadata": {},
     "output_type": "execute_result"
    }
   ],
   "source": [
    "sales_articles = train_df.groupby(['article_id'])['price'].sum().reset_index()\n",
    "sales_articles.sort_values(by = 'price', ascending = False, inplace = True)\n",
    "sales_articles.reset_index(drop=True)"
   ]
  },
  {
   "cell_type": "code",
   "execution_count": 39,
   "metadata": {},
   "outputs": [
    {
     "data": {
      "text/plain": [
       "(array([0, 1, 2, 3, 4, 5, 6, 7, 8, 9]),\n",
       " [Text(0, 0, '0706016001'),\n",
       "  Text(1, 0, '0706016002'),\n",
       "  Text(2, 0, '0568601006'),\n",
       "  Text(3, 0, '0448509014'),\n",
       "  Text(4, 0, '0706016003'),\n",
       "  Text(5, 0, '0399223001'),\n",
       "  Text(6, 0, '0720125001'),\n",
       "  Text(7, 0, '0562245046'),\n",
       "  Text(8, 0, '0751471001'),\n",
       "  Text(9, 0, '0562245001')])"
      ]
     },
     "execution_count": 39,
     "metadata": {},
     "output_type": "execute_result"
    },
    {
     "data": {
      "image/png": "[encoded data removed]",
      "text/plain": [
       "<Figure size 432x288 with 1 Axes>"
      ]
     },
     "metadata": {
      "needs_background": "light"
     },
     "output_type": "display_data"
    }
   ],
   "source": [
    "sns.barplot(x = 'article_id',\n",
    "            y = 'price',\n",
    "            data = sales_articles.head(10))\n",
    "plt.xticks(rotation=90)"
   ]
  },
  {
   "cell_type": "markdown",
   "metadata": {},
   "source": [
    "Articles Dataset"
   ]
  },
  {
   "cell_type": "code",
   "execution_count": 40,
   "metadata": {},
   "outputs": [
    {
     "data": {
      "text/plain": [
       "article_id                      0.000000\n",
       "product_code                    0.000000\n",
       "prod_name                       0.000000\n",
       "product_type_no                 0.000000\n",
       "product_type_name               0.000000\n",
       "product_group_name              0.000000\n",
       "graphical_appearance_no         0.000000\n",
       "graphical_appearance_name       0.000000\n",
       "colour_group_code               0.000000\n",
       "colour_group_name               0.000000\n",
       "perceived_colour_value_id       0.000000\n",
       "perceived_colour_value_name     0.000000\n",
       "perceived_colour_master_id      0.000000\n",
       "perceived_colour_master_name    0.000000\n",
       "department_no                   0.000000\n",
       "department_name                 0.000000\n",
       "index_code                      0.000000\n",
       "index_name                      0.000000\n",
       "index_group_no                  0.000000\n",
       "index_group_name                0.000000\n",
       "section_no                      0.000000\n",
       "section_name                    0.000000\n",
       "garment_group_no                0.000000\n",
       "garment_group_name              0.000000\n",
       "detail_desc                     0.394156\n",
       "sales_count                     0.000000\n",
       "monthly_sales_count             0.000000\n",
       "weekly_sales_count              0.000000\n",
       "dtype: float64"
      ]
     },
     "execution_count": 40,
     "metadata": {},
     "output_type": "execute_result"
    }
   ],
   "source": [
    "100*articles_df.isnull().sum()/articles_df.shape[0]"
   ]
  },
  {
   "cell_type": "code",
   "execution_count": 41,
   "metadata": {},
   "outputs": [
    {
     "data": {
      "text/plain": [
       "article_id                      105542\n",
       "product_code                     47224\n",
       "prod_name                        45875\n",
       "product_type_no                    132\n",
       "product_type_name                  131\n",
       "product_group_name                  19\n",
       "graphical_appearance_no             30\n",
       "graphical_appearance_name           30\n",
       "colour_group_code                   50\n",
       "colour_group_name                   50\n",
       "perceived_colour_value_id            8\n",
       "perceived_colour_value_name          8\n",
       "perceived_colour_master_id          20\n",
       "perceived_colour_master_name        20\n",
       "department_no                      299\n",
       "department_name                    250\n",
       "index_code                          10\n",
       "index_name                          10\n",
       "index_group_no                       5\n",
       "index_group_name                     5\n",
       "section_no                          57\n",
       "section_name                        56\n",
       "garment_group_no                    21\n",
       "garment_group_name                  21\n",
       "detail_desc                      43404\n",
       "sales_count                       3751\n",
       "monthly_sales_count                613\n",
       "weekly_sales_count                 283\n",
       "dtype: int64"
      ]
     },
     "execution_count": 41,
     "metadata": {},
     "output_type": "execute_result"
    }
   ],
   "source": [
    "articles_df.nunique()"
   ]
  },
  {
   "cell_type": "code",
   "execution_count": 42,
   "metadata": {},
   "outputs": [
    {
     "data": {
      "text/plain": [
       "(105542, 28)"
      ]
     },
     "execution_count": 42,
     "metadata": {},
     "output_type": "execute_result"
    }
   ],
   "source": [
    "articles_df.shape"
   ]
  }
 ],
 "metadata": {
  "interpreter": {
   "hash": "b529c6bed313b112a2bdc274fe95ed48478553dddbcd7bb656e7813927f6331f"
  },
  "kernelspec": {
   "display_name": "Python 3.9.0 64-bit",
   "language": "python",
   "name": "python3"
  },
  "language_info": {
   "codemirror_mode": {
    "name": "ipython",
    "version": 3
   },
   "file_extension": ".py",
   "mimetype": "text/x-python",
   "name": "python",
   "nbconvert_exporter": "python",
   "pygments_lexer": "ipython3",
   "version": "3.9.0"
  },
  "orig_nbformat": 4
 },
 "nbformat": 4,
 "nbformat_minor": 2
}
